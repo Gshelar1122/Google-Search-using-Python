{
 "cells": [
  {
   "cell_type": "markdown",
   "id": "41a01277-60d1-4694-a741-cd65aaabe5dc",
   "metadata": {},
   "source": [
    "Q1) What are the two values of the Boolean data type? How do you write them?"
   ]
  },
  {
   "cell_type": "raw",
   "id": "5e61b19d-8c50-4a89-b7b5-bbd0c7fde146",
   "metadata": {},
   "source": [
    "A boolean is a data type with two possible values: true (1) or false (0).\n",
    "The two values help represent truth conditions found in logic control structures. \n",
    "The name comes from a branch of mathematics called Boolean algebra, named after George Bool.\n",
    "The purpose of boolean values is to represent binary test conditions and decisions in a program. \n",
    "The two conditions are essential concepts in programming, algorithms, control structures, data structures, and logical operations\n",
    "Input: 1==1\n",
    "Output: True \n",
    "Input: 2<1 \n",
    "Output: False"
   ]
  },
  {
   "cell_type": "code",
   "execution_count": 1,
   "id": "7e28ed1d-f529-4f21-8eb4-bb25012064b7",
   "metadata": {},
   "outputs": [
    {
     "data": {
      "text/plain": [
       "bool"
      ]
     },
     "execution_count": 1,
     "metadata": {},
     "output_type": "execute_result"
    }
   ],
   "source": [
    "a = True\n",
    "type(a) \n",
    "b = False\n",
    "type(b)"
   ]
  },
  {
   "cell_type": "markdown",
   "id": "75243fee-46d6-4060-9d6d-c1f83df8b029",
   "metadata": {},
   "source": [
    "Q2) What are the three different types of Boolean operators?"
   ]
  },
  {
   "cell_type": "raw",
   "id": "30e09466-9a1e-4805-bf29-2c8a2c23d9a0",
   "metadata": {},
   "source": [
    "Boolean is a set of commands that can be used in almost every search engine, database, or online catalogue. \n",
    "The most popular Boolean commands are AND, OR, and NOT. "
   ]
  },
  {
   "cell_type": "markdown",
   "id": "3b0ebb42-8693-4f32-b8ea-2a9d18a12415",
   "metadata": {},
   "source": [
    "Q3) Make a list of each Boolean operator's truth tables (i.e. every possible combination of Boolean values for the operator and what it evaluate )."
   ]
  },
  {
   "cell_type": "raw",
   "id": "7964f10d-7598-4661-96d7-404d37dd9ce8",
   "metadata": {},
   "source": [
    "True and True is True.\n",
    "True and False is False.\n",
    "False and True is False.\n",
    "False and False is False.\n",
    "True or True is True.\n",
    "True or False is True.\n",
    "False or True is True.\n",
    "False or False is False.\n",
    "not True is False.\n",
    "not False is True"
   ]
  },
  {
   "cell_type": "raw",
   "id": "76f4bf61-9a68-44fb-aee0-937d30e72edb",
   "metadata": {},
   "source": [
    "True is 1 and False is 0\n",
    "Truth Table for AND\n",
    "A B output\n",
    "0 0 0\n",
    "0 1 0\n",
    "1 0 0\n",
    "1 1 1\n",
    "Truth Table for OR\n",
    "A B output\n",
    "0 0 0\n",
    "0 1 1\n",
    "1 0 1\n",
    "1 1 1\n",
    "Truth Table for NOT\n",
    "A output\n",
    "0 1\n",
    "1 0"
   ]
  },
  {
   "cell_type": "markdown",
   "id": "c7dc815e-e0e0-4822-b41e-cc090b46551a",
   "metadata": {},
   "source": [
    "Q4) . What are the values of the following expressions?\n",
    "(5 > 4) and (3 == 5)\n",
    "not (5 > 4)\n",
    "(5 > 4) or (3 == 5)\n",
    "not ((5 > 4) or (3 == 5))\n",
    "(True and True) and (True == False)\n",
    "(not False) or (not True)\n"
   ]
  },
  {
   "cell_type": "code",
   "execution_count": 2,
   "id": "2a557e01-4ba7-4ed0-9a18-0095eb0b771e",
   "metadata": {},
   "outputs": [
    {
     "name": "stdout",
     "output_type": "stream",
     "text": [
      "False\n",
      "False\n",
      "True\n",
      "False\n",
      "False\n",
      "True\n"
     ]
    }
   ],
   "source": [
    "print((5>4) and (3==5))\n",
    "print(not(5>4))\n",
    "print((5>4) or (3==5))\n",
    "print(not(5>4) or (3==5))\n",
    "print((True and True) and (True==False))\n",
    "print((not(False))or(not(True)))"
   ]
  },
  {
   "cell_type": "markdown",
   "id": "4a8a3204-dd51-4376-9469-0609bb52b1aa",
   "metadata": {},
   "source": [
    "Q5) What are the six comparison operators?"
   ]
  },
  {
   "cell_type": "raw",
   "id": "2d1e7383-10a5-48bd-92f4-545667936a9c",
   "metadata": {},
   "source": [
    "six comparison operators :-\n",
    " 1)  Equal                    :     ==\n",
    " 2) Not Equal                 :     !=\n",
    " 3) Greater than              :     > \n",
    " 4) Less than                 :     <\n",
    " 5) Greater than or equal to  :     >=\n",
    " 6) Less than or equal  to    :     <=\n"
   ]
  },
  {
   "cell_type": "markdown",
   "id": "056c8ef3-eb72-4203-b2de-decc7e5c2258",
   "metadata": {},
   "source": [
    "Q6) How do you tell the difference between the equal to and assignment operators?Describe a condition and when you would use one."
   ]
  },
  {
   "cell_type": "code",
   "execution_count": 3,
   "id": "51a5290b-e010-424b-912a-2e7d782e5b41",
   "metadata": {},
   "outputs": [
    {
     "name": "stdout",
     "output_type": "stream",
     "text": [
      "False\n",
      "c = 1\n"
     ]
    }
   ],
   "source": [
    " '''== is the equal to operator that compares two values and evaluates to a Boolean, \n",
    "  while = is the assignment operator that stores a value in a variable.'''\n",
    "#eg.\n",
    "\n",
    "# Equal To Operator\n",
    "if(2==3):\n",
    "    print(\"True\")\n",
    "else:\n",
    "    print(\"False\")\n",
    "#Assignment operator\n",
    "c=1 #here we have used assignment operator(=) to assign value of c which is 1\n",
    "print(\"c =\",c)\n",
    "\n",
    "\n"
   ]
  },
  {
   "cell_type": "markdown",
   "id": "93ddfe59-af7c-44cc-994b-3c12754c2fb7",
   "metadata": {},
   "source": [
    "Q7) Identify the three blocks in this code:\n",
    "spam = 0\n",
    "if spam == 10:\n",
    "print('eggs')\n",
    "if spam > 5:\n",
    "print('bacon')\n",
    "else:\n",
    "print('ham')\n",
    "print('spam')\n",
    "print('spam')\n"
   ]
  },
  {
   "cell_type": "code",
   "execution_count": 4,
   "id": "30584a26-7fe0-4f96-82dc-76da64e435be",
   "metadata": {},
   "outputs": [
    {
     "name": "stdout",
     "output_type": "stream",
     "text": [
      "ham\n",
      "spam\n",
      "spam\n"
     ]
    }
   ],
   "source": [
    "spam = 0\n",
    "if spam == 10:\n",
    "    print('eggs')\n",
    "if spam > 5:\n",
    "    print('bacon')\n",
    "else:\n",
    "    print('ham')\n",
    "    print('spam')\n",
    "    print('spam')"
   ]
  },
  {
   "cell_type": "markdown",
   "id": "7910b0fd-dea0-4d22-9b07-81de804c6122",
   "metadata": {},
   "source": [
    "Q8) Write code that prints Hello if 1 is stored in spam, prints Howdy if 2 is stored in spam, and prints Greetings! if anything else is stored in spam."
   ]
  },
  {
   "cell_type": "code",
   "execution_count": 1,
   "id": "ed9ab373-127b-435d-b7c2-811d1cb2fe44",
   "metadata": {},
   "outputs": [
    {
     "name": "stdin",
     "output_type": "stream",
     "text": [
      "Input a no. 2\n"
     ]
    },
    {
     "name": "stdout",
     "output_type": "stream",
     "text": [
      "Howdy\n"
     ]
    }
   ],
   "source": [
    "\n",
    "spam = int(input(\"Input a no.\"))\n",
    "if spam == 1:\n",
    "    print(\"Hello\")\n",
    "elif spam == 2:\n",
    "    print(\"Howdy\")\n",
    "else:\n",
    "    print(\"Greetings!\")\n"
   ]
  },
  {
   "cell_type": "markdown",
   "id": "513420d0-6711-4e45-838c-903c7be4a0ac",
   "metadata": {},
   "source": [
    "Q9) If your programme is stuck in an endless loop, what keys you’ll press?"
   ]
  },
  {
   "cell_type": "raw",
   "id": "d78faf28-2b84-4167-bf8f-75624b5bfdc7",
   "metadata": {},
   "source": [
    "The keyboard interrupt method is useful when we want to manually stop an infinite loop while it’s running. \n",
    "We can do this by pressing Ctrl + C on our keyboard, which sends a signal to the program to stop executing."
   ]
  },
  {
   "cell_type": "markdown",
   "id": "d69b9d94-d21a-4916-b30d-5176f112e296",
   "metadata": {},
   "source": [
    "Q10) How can you tell the difference between break and continue?"
   ]
  },
  {
   "cell_type": "code",
   "execution_count": 2,
   "id": "3fca5318-cb7c-4fd2-81f3-e3fb5d762623",
   "metadata": {},
   "outputs": [
    {
     "name": "stdout",
     "output_type": "stream",
     "text": [
      "0\n",
      "1\n",
      "2\n",
      "3\n",
      "4\n",
      "5\n",
      "6\n",
      "Breaked\n",
      "0\n",
      "1\n",
      "2\n",
      "3\n",
      "4\n",
      "5\n",
      "6\n",
      "8\n",
      "9\n"
     ]
    }
   ],
   "source": [
    "'''The break statement will move the execution outside and just after a loop.The continue statement will move the execution to the start of the loop.\n",
    "The break statement is used within a loop or switch statement to terminate the loop or exit the switch. It is typically used within conditional statements. The continue statement is used within a loop to skip the rest of the code in the current iteration and begin the next iteration. It is also used within conditional statements.'''\r",
    "# use of break\r\n",
    "for i in range(10):\r\n",
    "    if(i==7):\r\n",
    "        break\r\n",
    "    print(i)\r\n",
    "    \r\n",
    "print('Breaked')\r\n",
    "#use of  continue\r\n",
    "for i in range(10):\r\n",
    "    if(i==7):\r\n",
    "        continue\r\n",
    "    print(i)\r\n",
    " \n",
    "\r\n"
   ]
  },
  {
   "cell_type": "markdown",
   "id": "cf520467-5649-44ae-a646-38667be893ce",
   "metadata": {},
   "source": [
    "Q11) In a for loop, what is the difference between range(10), range(0, 10), and range(0, 10, 1)?"
   ]
  },
  {
   "cell_type": "code",
   "execution_count": 4,
   "id": "d2802ff8-8b16-4c78-b1b3-19d856d7f121",
   "metadata": {
    "scrolled": true
   },
   "outputs": [
    {
     "name": "stdout",
     "output_type": "stream",
     "text": [
      "0\n",
      "1\n",
      "2\n",
      "3\n",
      "4\n",
      "5\n",
      "6\n",
      "7\n",
      "8\n",
      "9\n",
      "xxxxxxxxxxxxxxxxxxxxxxxxxxxxxxxxxxxxxxxxxxxxxxxxxxxxxxxxxxxxxxxxxxxxxxxxxxxxxxxxxxxxxx\n",
      "0\n",
      "1\n",
      "2\n",
      "3\n",
      "4\n",
      "5\n",
      "6\n",
      "7\n",
      "8\n",
      "9\n",
      "xxxxxxxxxxxxxxxxxxxxxxxxxxxxxxxxxxxxxxxxxxxxxxxxxxxxxxxxxxxxxxxxxxxxxxxxxxxxxxxxxxxxxx\n",
      "0\n",
      "1\n",
      "2\n",
      "3\n",
      "4\n",
      "5\n",
      "6\n",
      "7\n",
      "8\n",
      "9\n"
     ]
    }
   ],
   "source": [
    "'''From the above output we can conclude that they all do the same thing. The range(10) call ranges from 0 up to (but not including) 10, \n",
    "range(0, 10) tells the loop to start at 0, and range(0, 10, 1) tells the loop to increase the variable by 1 on each iteration.'''\n",
    "\n",
    "for i in range(10):\n",
    "    print(i)\n",
    "print(\"xxxxxxxxxxxxxxxxxxxxxxxxxxxxxxxxxxxxxxxxxxxxxxxxxxxxxxxxxxxxxxxxxxxxxxxxxxxxxxxxxxxxxx\") \n",
    "for i in range(0,10):\n",
    "    print(i)\n",
    "print(\"xxxxxxxxxxxxxxxxxxxxxxxxxxxxxxxxxxxxxxxxxxxxxxxxxxxxxxxxxxxxxxxxxxxxxxxxxxxxxxxxxxxxxx\")\n",
    "for i in range(0,10,1):\n",
    "    print(i)"
   ]
  },
  {
   "cell_type": "markdown",
   "id": "dd260f52-c89e-4865-bae5-3f8ebb110fc2",
   "metadata": {},
   "source": [
    "Q12) Write a short program that prints the numbers 1 to 10 using a for loop. Then write an equivalent program that prints the numbers 1 to 10 using a while loop."
   ]
  },
  {
   "cell_type": "code",
   "execution_count": 5,
   "id": "4b1d1e12-0dfc-4e82-ad19-c0000e8ddce8",
   "metadata": {},
   "outputs": [
    {
     "name": "stdout",
     "output_type": "stream",
     "text": [
      "For Loop\n",
      "1\n",
      "2\n",
      "3\n",
      "4\n",
      "5\n",
      "6\n",
      "7\n",
      "8\n",
      "9\n",
      "10\n",
      "While Loop\n",
      "1\n",
      "2\n",
      "3\n",
      "4\n",
      "5\n",
      "6\n",
      "7\n",
      "8\n",
      "9\n",
      "10\n"
     ]
    }
   ],
   "source": [
    "#Use of For Loop\n",
    "print(\"For Loop\")\n",
    "for i in range(1,11):\n",
    "    print(i)\n",
    "#Use of While Loop\n",
    "print(\"While Loop\")\n",
    "a =1\n",
    "while a <= 10:\n",
    "    print(a)\n",
    "    a+=1\n"
   ]
  },
  {
   "cell_type": "markdown",
   "id": "6706a957-4ec4-4949-8652-d741b510e0e6",
   "metadata": {},
   "source": [
    "Q13) If you had a function named bacon() inside a module named spam, how would you call it after importing spam?"
   ]
  },
  {
   "cell_type": "markdown",
   "id": "5a39fda7-cf04-4480-8a94-2d2893c944f4",
   "metadata": {},
   "source": [
    "To call the 'bacon()' function inside a module named 'spam' after importing the following syntax"
   ]
  },
  {
   "cell_type": "code",
   "execution_count": null,
   "id": "5d47c1de-9b9c-4548-bfcc-08afe647732a",
   "metadata": {},
   "outputs": [],
   "source": [
    "import spam\n",
    "spam.bacon()"
   ]
  },
  {
   "cell_type": "code",
   "execution_count": null,
   "id": "5a7871f1-95c2-4a15-a9fc-879337c579b3",
   "metadata": {},
   "outputs": [],
   "source": []
  }
 ],
 "metadata": {
  "kernelspec": {
   "display_name": "Python 3 (ipykernel)",
   "language": "python",
   "name": "python3"
  },
  "language_info": {
   "codemirror_mode": {
    "name": "ipython",
    "version": 3
   },
   "file_extension": ".py",
   "mimetype": "text/x-python",
   "name": "python",
   "nbconvert_exporter": "python",
   "pygments_lexer": "ipython3",
   "version": "3.11.7"
  }
 },
 "nbformat": 4,
 "nbformat_minor": 5
}
