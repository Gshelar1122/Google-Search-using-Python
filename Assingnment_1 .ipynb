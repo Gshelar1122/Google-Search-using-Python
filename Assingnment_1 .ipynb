{
 "cells": [
  {
   "cell_type": "markdown",
   "id": "25a43d0a-2fbb-4e06-8878-2c989f4d67e5",
   "metadata": {},
   "source": [
    "\n",
    "Q1) In the below elements which of them are values or an expression? eg:- values can be integer or string and expressions will be mathematical operators.\n",
    "     *,  'hello' , -87.8 , - , / , + ,\t6 \n"
   ]
  },
  {
   "cell_type": "raw",
   "id": "a293431e-fd07-4f25-9706-a4aeda29ce24",
   "metadata": {},
   "source": [
    "The classification of each element:\n",
    " *           :-  multiplication operator\n",
    "'hello'      :-  string\n",
    "-87.8        :-  floating-point number\n",
    " -           :-  subtraction operator\n",
    "/            :-  division operator\n",
    "+            :-  addition operator\n",
    "6            :-  integer"
   ]
  },
  {
   "cell_type": "markdown",
   "id": "0473b502-9f5b-4a73-b8c7-a5f3346399b9",
   "metadata": {},
   "source": [
    "Q2) What is the difference between string and variable?"
   ]
  },
  {
   "cell_type": "raw",
   "id": "53c4f4c0-2f2e-4114-8177-bb520bbd9d69",
   "metadata": {},
   "source": [
    "1. String :-\n",
    "  1) A string is a sequence of characters enclosed in quotes (single, double, or triple).\n",
    "  2) It is a data type used to represent text.\n",
    "  3) Example : ' \"hello\" ' , ' 'world' ', ' \"1234\" '.\n",
    "2. Variable :-\n",
    "  1) A variable is a named storage location in memory used to hold a value.\n",
    "  2) The value od a variable can be a string, integer, float, or any other data type.\n",
    "  3) Variables are used to store data that can be referenced and manipulated in a program."
   ]
  },
  {
   "cell_type": "code",
   "execution_count": 3,
   "id": "944f0067-0402-431d-90b2-b2e42241572b",
   "metadata": {},
   "outputs": [],
   "source": [
    "# Example\n",
    "message = \"hello\"  # 'message' is a variable storing a string\n",
    "age = 25           # 'age' is a variable storing an integer"
   ]
  },
  {
   "cell_type": "markdown",
   "id": "04508e20-1228-49c1-a007-c35136b0e8d1",
   "metadata": {},
   "source": [
    "Q3) Describe three different data types."
   ]
  },
  {
   "cell_type": "raw",
   "id": "c103a412-418e-4633-bbe3-5b3806ee241b",
   "metadata": {},
   "source": [
    "Describe three different data types commonly used in programming.\n",
    "1. Integer :-\n",
    "    1. Description : Represents whole numbers without a fractional component.\n",
    "    2. Usage : Used for couting, indexing, and performing arithmetic operations where fraction are not needed.\n",
    "    3. Example : '5','-10','46'.\n",
    "\n",
    "2. Float (Floating-Point Number) :\n",
    "    1. Description : Represents numbers that  have a fractional component, expressed in decimal or scientific notation.\n",
    "    2. Usage : Usage for precise calculations, measurements, and when dealing with real numbers that require a decimal point.\n",
    "    3. Example : '3.45','-0.001','3.456'.\n",
    "\n",
    "3. Boolean : \n",
    "    1. Description : Represents logical values that can be either 'True' or 'False'.\n",
    "    2. Usage : Used for conditional statements, logic operations, and controllinf the flow of a program based on certain conditions.\n",
    "    3. Example : 'True','False'.\n"
   ]
  },
  {
   "cell_type": "markdown",
   "id": "1c767f22-a058-4b91-bed4-724dec2cc4c4",
   "metadata": {},
   "source": [
    "Q4) What is an expression made up of? What do all expressions do?"
   ]
  },
  {
   "cell_type": "raw",
   "id": "1be45786-777c-4948-aa40-a71b6ef1d5ab",
   "metadata": {},
   "source": [
    "An expression in programming made up of a combination of :\n",
    "1) Operands :  These can be values ( constants or literals), variables, or more complex expression.\n",
    "    Example: '5', 'x', \"hello\",'3.45'.\n",
    "2) Operators : These are symbols that specify the operation to be performed on the operands. They can be arithmetic, logical, relational, bitwise, etc.\n",
    "    Example: '+'(addition) , '-'(subtrcation), '*'(multiplication), '/'(division), '=='(equality), '&&'(logical AND).\n",
    "3) Functions or Method Calls (optional): These are invoked on operandes to perform operations.\n",
    "    Example: 'max(a,b)', len(\"hello\").\n",
    "What All Expressions Do\n",
    "1. Evaluate to a Value :\n",
    "   The primary purpose of an expression is to be evaluted to produce a single value.\n",
    "    Example: '2 + 3' evaluates to '5' , 'len(\"hello\")' evaluates to '5'.\n",
    "2. Can be Assin=gned to Variables:\n",
    "   The result od an expression can be stored in a variable.\n",
    "   Example: 'result = 2 * (3 + 4)' assigns '14' to 'result'.\n",
    "3. Can Affect Program Flow:\n",
    "   Expressions can be used in control structures(e.g., 'if' statements) to determine the flow of execution.\n",
    "   Example: 'if (a > b) { // do something }' where 'a > b' is an expression that evaluates to either 'True' or 'False'.\n",
    "\n",
    "    "
   ]
  },
  {
   "cell_type": "markdown",
   "id": "746eadc9-0773-4c8d-be3a-83a77214c403",
   "metadata": {},
   "source": [
    "Q5) This assignment statements, like spam = 10. What is the difference between an expression and a statement?"
   ]
  },
  {
   "cell_type": "raw",
   "id": "00ac3586-8069-4ed1-878c-43f9d0511329",
   "metadata": {},
   "source": [
    "In programming, expressions and statements are fundamental concepts that are used to write code. Here are the key differences between expressions and statements:\n",
    "\n",
    "Expression:\n",
    "- An expression is a combination of values, variables, operators, and function calls that evaluates to a single value.\n",
    "- Expressions can be simple, like 5 + 3, or complex, like 2 * (x + y) / (z - 1).\n",
    "- Examples of expressions include arithmetic expressions, logical expressions, and function calls.\n",
    "- Expressions can be used within statements to compute values or perform operations.\n",
    "- Expressions can be part of statements, but a statement can't be part of an expression.\n",
    "- In most programming languages, expressions can be used wherever a value is expected.\n",
    "Statement:\n",
    "- A statement is a complete instruction that performs some action.\n",
    "- Statements can include expressions, but they can also include keywords, control structures, and other elements that perform a specific task.\n",
    "- Examples of statements include variable declarations, assignments, loops, conditionals, and function definitions.\n",
    "- Statements are typically terminated by a semicolon (;) in languages like C, C++, Java, and JavaScript.\n",
    "- Statements are executed sequentially unless control flow statements like loops and conditionals are used to alter the flow of execution.\n",
    "- Statements are often used to control the flow of a program, such as deciding which code to execute based on conditions.\n",
    "\n",
    "Example : \n",
    "Assignment Statement: 'spam = 10'\n",
    "    This is a statement because it assigns the value '10' to the variable 'spam'. ir performs the action of storing the value in the variable.\n",
    "    The expression here is '10' which evaluates to the integer '10'."
   ]
  },
  {
   "cell_type": "markdown",
   "id": "67144bd2-e7c2-4b4a-8760-757997414d18",
   "metadata": {},
   "source": [
    "Q6) After running the following code, what does the variable bacon contain?\n",
    "bacon = 22\n",
    "bacon + 1\n"
   ]
  },
  {
   "cell_type": "code",
   "execution_count": 4,
   "id": "51a7ff7a-054c-45e6-98b5-a4f23e18f5db",
   "metadata": {},
   "outputs": [
    {
     "name": "stdout",
     "output_type": "stream",
     "text": [
      "23\n"
     ]
    }
   ],
   "source": [
    "bacon = 22\n",
    "print(bacon + 1)\n",
    "\n",
    "#bacon=23 after running the code.\n",
    "\n"
   ]
  },
  {
   "cell_type": "markdown",
   "id": "5e0f83cf-d3ff-4eb0-8c4d-13d89eb52d9d",
   "metadata": {},
   "source": [
    "Q7) What should the values of the following two terms be?\n",
    "'spam' + 'spamspam'\n",
    "'spam' * 3\n"
   ]
  },
  {
   "cell_type": "code",
   "execution_count": 5,
   "id": "f5aded0b-0fda-4eef-9bf7-1ba4cd856d17",
   "metadata": {},
   "outputs": [
    {
     "name": "stdout",
     "output_type": "stream",
     "text": [
      "spamspamspam\n"
     ]
    }
   ],
   "source": [
    "'spam' + 'spamspam'\n",
    "print('spam' * 3)     #spam’+’spamspam’ =’spamspamspam’\n",
    "                       #‘spam’*3=’spamspamspam’\n",
    "\n"
   ]
  },
  {
   "cell_type": "markdown",
   "id": "b689c847-d063-4b54-99ef-ab75cdad1802",
   "metadata": {},
   "source": [
    "Q8) Why is eggs a valid variable name while 100 is invalid?"
   ]
  },
  {
   "cell_type": "raw",
   "id": "b397dc1b-d253-4d49-9b44-0998b9b4e588",
   "metadata": {},
   "source": [
    "eggs is a true variable name because it can be initialized to any data type and can take any value during the program\n",
    "\n",
    "while 100 is well defined constant in any language and cannot be used to take data of any other form."
   ]
  },
  {
   "cell_type": "markdown",
   "id": "154dbcad-cb2f-433b-a8bd-d6f9f69497d6",
   "metadata": {},
   "source": [
    "Q9) What three functions can be used to get the integer, floating-point number, or string version of a value?"
   ]
  },
  {
   "cell_type": "raw",
   "id": "d4458a84-a40c-4c90-bec0-05e973a2b065",
   "metadata": {},
   "source": [
    "functions not given. However, below can be taken as an explanation\n",
    "\n",
    "\n",
    "Two types of data type conversion in python\n",
    "\n",
    " >implicit data type conversion: the type of data changes from one type to another without user involvement. \n",
    "\n",
    "\n",
    "For example,\n",
    "\n",
    "a=10\n",
    "\n",
    "print(“the type of “a” is , type(a))\n",
    "\n",
    "b=12.6\n",
    "\n",
    "print(“the type of “b” is , type(b))\n",
    "\n",
    "c=a+b\n",
    "\n",
    "print(“c is{} and the type of “c” is , c ,type(c))\n",
    "\n",
    "\n",
    "Output\n",
    "\n",
    "type of a is int\n",
    "\n",
    "type of b float\n",
    "\n",
    "c is 22.6 and the type of c is float->As seen ,the type of “a” changes automatically to float\n",
    "\n",
    ">explicit data type conversion: the type of data is changed manually in the program\n",
    "For e.g s=”100001”\n",
    "x= int(s,2) where 2 is the base to which the string will be converted\n",
    " print (x)\n",
    "\n",
    "Output\n",
    "33->the string converted to base 2\n",
    "\n",
    "Similarly, float(),hex(), oct() are other form to change data type to respective types.\n",
    "\n"
   ]
  },
  {
   "cell_type": "markdown",
   "id": "c5e66419-7219-4834-9b2f-8ad37568e273",
   "metadata": {},
   "source": [
    "Q10) Why does this expression cause an error? How can you fix it?\n",
    "'I have eaten ' + 99 + ' burritos.'\n"
   ]
  },
  {
   "cell_type": "code",
   "execution_count": null,
   "id": "ef3645d3-4a14-4acb-ae82-26d26ce0e949",
   "metadata": {},
   "outputs": [],
   "source": [
    "The first data is a string constant followed by integer constant and then followed by another string constant. The addition operation performed on two different   data types.    \n",
    "As in this case , changing the type of integer constant”99” to string will be more logical \n",
    "We can use , ‘I have eaten’+’99’+’burritos’ which would give an output as below\n",
    "‘I have eaten 99 burritos’"
   ]
  }
 ],
 "metadata": {
  "kernelspec": {
   "display_name": "Python 3 (ipykernel)",
   "language": "python",
   "name": "python3"
  },
  "language_info": {
   "codemirror_mode": {
    "name": "ipython",
    "version": 3
   },
   "file_extension": ".py",
   "mimetype": "text/x-python",
   "name": "python",
   "nbconvert_exporter": "python",
   "pygments_lexer": "ipython3",
   "version": "3.11.7"
  }
 },
 "nbformat": 4,
 "nbformat_minor": 5
}
