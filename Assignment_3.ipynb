{
 "cells": [
  {
   "cell_type": "code",
   "execution_count": null,
   "id": "6481ce6d-4cd2-4676-a31c-60178a9497d6",
   "metadata": {},
   "outputs": [],
   "source": []
  },
  {
   "cell_type": "code",
   "execution_count": null,
   "id": "58111608-74f0-437d-b93a-f48ce73d2b45",
   "metadata": {},
   "outputs": [],
   "source": [
    "Functions are a fundamental concept in programming that allows you to encapsulate a block of code (some set of instructions that you or another programmer \n",
    "wrote)and execute it multiple times. They provide modularity, reusability, and improve the overall organization of your code"
   ]
  },
  {
   "cell_type": "code",
   "execution_count": null,
   "id": "1eacdede-5c6d-4392-93de-4f0065e8b5d9",
   "metadata": {},
   "outputs": [],
   "source": []
  }
 ],
 "metadata": {
  "kernelspec": {
   "display_name": "Python 3 (ipykernel)",
   "language": "python",
   "name": "python3"
  },
  "language_info": {
   "codemirror_mode": {
    "name": "ipython",
    "version": 3
   },
   "file_extension": ".py",
   "mimetype": "text/x-python",
   "name": "python",
   "nbconvert_exporter": "python",
   "pygments_lexer": "ipython3",
   "version": "3.11.7"
  }
 },
 "nbformat": 4,
 "nbformat_minor": 5
}
